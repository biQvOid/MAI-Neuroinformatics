{
  "nbformat": 4,
  "nbformat_minor": 0,
  "metadata": {
    "colab": {
      "provenance": []
    },
    "kernelspec": {
      "name": "python3",
      "display_name": "Python 3"
    },
    "language_info": {
      "name": "python"
    }
  },
  "cells": [
    {
      "cell_type": "markdown",
      "source": [
        " Лабораторная работа №1 - Персептроны. Процедура обучения Розенблатта\n",
        "\n",
        "Выполнил: Степанов Данила Михайлович\n",
        "\n",
        "Группа: М8О-407Б-20\n",
        "\n",
        "Вариант: 22"
      ],
      "metadata": {
        "id": "iSj0LKPLcdH5"
      }
    },
    {
      "cell_type": "markdown",
      "source": [
        "Цель работы\n",
        "\n",
        "Целью работы является исследование свойств персептрона Розенблатта и его применение для решения задачи распознавания образов."
      ],
      "metadata": {
        "id": "imtNuAqKcp0R"
      }
    },
    {
      "cell_type": "markdown",
      "source": [
        "Решение"
      ],
      "metadata": {
        "id": "E8xPQEw0c1j4"
      }
    },
    {
      "cell_type": "markdown",
      "source": [
        "Подключим модуль torch для определения архитектуры модели"
      ],
      "metadata": {
        "id": "1VU1Acg7c2_9"
      }
    },
    {
      "cell_type": "code",
      "execution_count": 1,
      "metadata": {
        "id": "9N4gbwNJxSLX"
      },
      "outputs": [],
      "source": [
        "import torch\n",
        "from torch import nn\n",
        "import numpy as np"
      ]
    },
    {
      "cell_type": "markdown",
      "source": [
        "Часть 1 - двумерные признаки, одномерные метки"
      ],
      "metadata": {
        "id": "2UaIPli0c98I"
      }
    },
    {
      "cell_type": "markdown",
      "source": [
        "С помощью модуля torch описываем свою модель нейронной сети. Определяем её параметры и определяем вычисления выходных значений по входным данным.:"
      ],
      "metadata": {
        "id": "vU5sZLl4caDA"
      }
    },
    {
      "cell_type": "code",
      "source": [
        "class Perceptron(nn.Module):\n",
        "  def __init__(self, in_features, out_features): # описываем линейный слой: на входе матрица объекты-признаки размера n x in_features, на выходе n x out_features\n",
        "    super().__init__()\n",
        "    self.weights = nn.Parameter(torch.randn(in_features, out_features))\n",
        "    self.bias = nn.Parameter(torch.randn(out_features))\n",
        "\n",
        "  def forward(self, x): # прямой проход нейросети\n",
        "    x = x @ self.weights\n",
        "    x += self.bias\n",
        "    return x\n",
        "\n",
        "# (n x in_features) * (in_features x out_features) = (n x out_features)"
      ],
      "metadata": {
        "id": "hC8ifVJSyHUf"
      },
      "execution_count": 2,
      "outputs": []
    },
    {
      "cell_type": "markdown",
      "source": [
        "Подготивим данные для обучения"
      ],
      "metadata": {
        "id": "0zTJHdPEe3bK"
      }
    },
    {
      "cell_type": "code",
      "source": [
        "X = torch.tensor([[-2.1, -4.6], # n x in_features\n",
        "                  [0, 2.6],\n",
        "                  [1.3, -4.2],\n",
        "                  [-4.2, 2.7],\n",
        "                  [4, 0.3],\n",
        "                  [-4, 3.2]])\n",
        "\n",
        "y = torch.tensor(np.array([0, 0, 0, 1, 0, 1]))"
      ],
      "metadata": {
        "id": "iOb5b083yHX6"
      },
      "execution_count": 3,
      "outputs": []
    },
    {
      "cell_type": "markdown",
      "source": [
        "Определим число итераций обучения, модель, функцию потерь, оптимизатор для изменения параметров сети и процедуру обучения сети"
      ],
      "metadata": {
        "id": "IaTkXMqFfCUp"
      }
    },
    {
      "cell_type": "code",
      "source": [
        "epochs = 40000\n",
        "\n",
        "model = Perceptron(2, 1)\n",
        "criterion = nn.L1Loss()\n",
        "opt = torch.optim.SGD(model.parameters(), lr=0.03)\n",
        "\n",
        "def train(model, criterion, opt, epochs):\n",
        "  for epoch in range(epochs):\n",
        "    opt.zero_grad()\n",
        "    outputs = model(X)\n",
        "    sigm = nn.Sigmoid()\n",
        "    probs = sigm(outputs).view(-1)\n",
        "    loss = criterion(probs, y)\n",
        "    if epoch % 10000 == 0:\n",
        "      print(\"loss: \", loss.item())\n",
        "    loss.backward()\n",
        "    opt.step()\n",
        "\n",
        "train(model, criterion, opt, epochs)"
      ],
      "metadata": {
        "id": "m9HdgF_c0Zlk",
        "colab": {
          "base_uri": "https://localhost:8080/"
        },
        "outputId": "81321e22-7a6a-4465-b1b0-6183ddca0927"
      },
      "execution_count": 4,
      "outputs": [
        {
          "output_type": "stream",
          "name": "stdout",
          "text": [
            "loss:  0.7732027173042297\n",
            "loss:  0.008312579244375229\n",
            "loss:  0.003855440765619278\n",
            "loss:  0.0024989889934659004\n"
          ]
        }
      ]
    },
    {
      "cell_type": "markdown",
      "source": [
        "Подключим модуль для отрисовки графиков"
      ],
      "metadata": {
        "id": "Q20pDZ7-fbgE"
      }
    },
    {
      "cell_type": "code",
      "source": [
        "import matplotlib.pyplot as plt"
      ],
      "metadata": {
        "id": "0Pj1PDfV47SJ"
      },
      "execution_count": 5,
      "outputs": []
    },
    {
      "cell_type": "markdown",
      "source": [
        "Отрисовка разделяющей прямой и точек"
      ],
      "metadata": {
        "id": "eSZZ5nJTd2nY"
      }
    },
    {
      "cell_type": "code",
      "source": [
        "def discriminant(x, w, b):\n",
        "    return (-x * w[0].item() - b.item()) / w[1].item() # w1y + w0x + b = 0 -> y = (-b - w0x) / w1\n",
        "\n",
        "plt.grid(True, which='both')\n",
        "plt.axhline(y=0, color='k')\n",
        "plt.axvline(x=0, color='k')\n",
        "\n",
        "_X = np.linspace(-10, 10, 100)\n",
        "Y = [-4.6, 2.6, -4.2, 2.7, 0.3, 3.2]\n",
        "\n",
        "X = [-2.1, 0, 1.3, -4.2, 4, -4]\n",
        "\n",
        "plt.plot(_X, discriminant(_X, model.weights, model.bias), \"red\")\n",
        "\n",
        "y = [0, 0, 0, 1, 0, 1]\n",
        "\n",
        "for p1, p2, c in list(zip(X, Y, y)):\n",
        "    if (c == 1):\n",
        "        plt.scatter(p1, p2, c=\"blue\")\n",
        "    else:\n",
        "        plt.scatter(p1, p2, c=\"green\")\n",
        "\n",
        "plt.show() # y = kx + b"
      ],
      "metadata": {
        "colab": {
          "base_uri": "https://localhost:8080/",
          "height": 433
        },
        "id": "AIQ6p3AN2tN5",
        "outputId": "d44bf2c1-9e7c-462d-b383-6f961033a188"
      },
      "execution_count": 6,
      "outputs": [
        {
          "output_type": "display_data",
          "data": {
            "text/plain": [
              "<Figure size 640x480 with 1 Axes>"
            ],
            "image/png": "[encoded data removed]"
          },
          "metadata": {}
        }
      ]
    },
    {
      "cell_type": "markdown",
      "source": [
        "Часть 2 - двумерные признаки, двумерные метки"
      ],
      "metadata": {
        "id": "U2BNpJ8QdB3B"
      }
    },
    {
      "cell_type": "markdown",
      "source": [
        "Обучим модель для классификации на 4 класса, не меняя архитектуру модели и меняя только процедуру обучения"
      ],
      "metadata": {
        "id": "BbPSlPoPdoEz"
      }
    },
    {
      "cell_type": "code",
      "source": [
        "model2 = Perceptron(2, 2)\n",
        "\n",
        "criterion = nn.L1Loss()\n",
        "opt = torch.optim.SGD(model2.parameters(), lr=0.05)\n",
        "\n",
        "y1 = torch.tensor([1, 1, 1, 0, 0, 1, 1, 0])\n",
        "y2 = torch.tensor([1, 1, 1, 0, 1, 0, 1, 0])\n",
        "\n",
        "X = torch.tensor([[1.3, 4.5],\n",
        "                  [-2.6, 1.7],\n",
        "                 [-2.2, 1.7],\n",
        "                  [1.9, -4.4],\n",
        "                  [-2.5, -2.8],\n",
        "                  [1.6, 3.4],\n",
        "                  [-1.6, 2.8],\n",
        "                  [1.7, -5]])\n",
        "\n",
        "epochs = 10000\n",
        "\n",
        "for epoch in range(epochs):\n",
        "  opt.zero_grad()\n",
        "  outputs = model2(X) # n x 2\n",
        "  sigm = nn.Sigmoid()\n",
        "  outputs = sigm(outputs)\n",
        "  probs1 = outputs[:, 0]\n",
        "  probs2 = outputs[:, 1]\n",
        "  loss1 = criterion(probs1, y1)\n",
        "  loss2 = criterion(probs2, y2)\n",
        "  loss = loss1 + loss2\n",
        "  if epoch % 1000 == 0:\n",
        "    print(\"loss: \", loss.item())\n",
        "  loss.backward()\n",
        "  opt.step()"
      ],
      "metadata": {
        "colab": {
          "base_uri": "https://localhost:8080/"
        },
        "id": "59GplR3FIUfY",
        "outputId": "662bfa84-405b-42ad-fcbf-411c13aacec5"
      },
      "execution_count": 8,
      "outputs": [
        {
          "output_type": "stream",
          "name": "stdout",
          "text": [
            "loss:  0.44763612747192383\n",
            "loss:  0.08350858092308044\n",
            "loss:  0.06563188135623932\n",
            "loss:  0.05317588523030281\n",
            "loss:  0.04400360956788063\n",
            "loss:  0.03712758421897888\n",
            "loss:  0.031874749809503555\n",
            "loss:  0.027782017365098\n",
            "loss:  0.024531858041882515\n",
            "loss:  0.021904805675148964\n"
          ]
        }
      ]
    },
    {
      "cell_type": "markdown",
      "source": [
        "Отрисовка разделяющих гиперплоскостей и точек"
      ],
      "metadata": {
        "id": "PMqlKZ69dTs6"
      }
    },
    {
      "cell_type": "code",
      "source": [
        "_X = np.linspace(-10, 10, 100)\n",
        "\n",
        "plt.plot(_X, discriminant(_X, model2.weights[:, 0], model2.bias[0]), \"red\")\n",
        "plt.plot(_X, discriminant(_X, model2.weights[:, 1], model2.bias[1]), \"orange\")\n",
        "\n",
        "x = np.array(X[:, 0])\n",
        "y = np.array(X[:, 1])\n",
        "\n",
        "labels = zip(y1, y2)\n",
        "\n",
        "for p1, p2, l in list(zip(x, y, labels)):\n",
        "    if l[0] == 1 and l[1] == 1:\n",
        "        plt.scatter(p1, p2, c=\"blue\")\n",
        "    elif l[0] == 1:\n",
        "        plt.scatter(p1, p2, c=\"green\") # 00 10 | 10 11\n",
        "    elif l[1] == 1:\n",
        "        plt.scatter(p1, p2, c=\"black\")\n",
        "    else:\n",
        "        plt.scatter(p1, p2, c=\"pink\")\n",
        "\n",
        "plt.show()"
      ],
      "metadata": {
        "colab": {
          "base_uri": "https://localhost:8080/",
          "height": 430
        },
        "id": "FommX86gdT4k",
        "outputId": "64616a54-c62b-41cc-af8f-7ef5f4c5861e"
      },
      "execution_count": 9,
      "outputs": [
        {
          "output_type": "display_data",
          "data": {
            "text/plain": [
              "<Figure size 640x480 with 1 Axes>"
            ],
            "image/png": "[encoded data removed]"
          },
          "metadata": {}
        }
      ]
    },
    {
      "cell_type": "markdown",
      "source": [
        "#Выводы\n",
        "В данной лабораторной работе я познакомился с персептроном Розенблатта и обучил его на заданных данных. Так как данные были линейно разделимы, такая модель смогла идеально разделить объекты на два класса. Для решения 2 части задания понадобилось две разделяющие прямые, чтобы классифицировать объекты на 4 класса."
      ],
      "metadata": {
        "id": "FxPzjNHIm6iQ"
      }
    }
  ]
}