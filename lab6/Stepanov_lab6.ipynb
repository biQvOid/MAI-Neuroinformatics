{
  "nbformat": 4,
  "nbformat_minor": 0,
  "metadata": {
    "colab": {
      "provenance": []
    },
    "kernelspec": {
      "name": "python3",
      "display_name": "Python 3"
    },
    "language_info": {
      "name": "python"
    }
  },
  "cells": [
    {
      "cell_type": "markdown",
      "source": [
        "Лабораторная работа № 6. Сети Кохонена\n",
        "\n",
        "Выполнил: Степанов Данила Михайлович\n",
        "\n",
        "Группа: М8О-407Б-20\n",
        "\n",
        "Вариант: 22"
      ],
      "metadata": {
        "id": "pDD7yP0qK7eN"
      }
    },
    {
      "cell_type": "markdown",
      "source": [
        "Цель работы:\n",
        "\n",
        "Целью работы является исследование свойств слоя Кохонена, карты Кохонена, а также сетей\n",
        "векторного квантования, обучаемых с учителем, алгоритмов обучения, а также применение сетей\n",
        "в задачах кластеризации и классификации."
      ],
      "metadata": {
        "id": "5CmgRFuvLJuc"
      }
    },
    {
      "cell_type": "code",
      "execution_count": 1,
      "metadata": {
        "id": "Ul-Ey8QpQr7h"
      },
      "outputs": [],
      "source": [
        "import numpy as np\n",
        "import torch\n",
        "import torch.nn as nn\n",
        "import matplotlib.pyplot as plt\n",
        "from sklearn.model_selection import train_test_split"
      ]
    },
    {
      "cell_type": "code",
      "source": [
        "input_data = [[1.2, 1.1],\n",
        "              [0.8, 1.2],\n",
        "              [-1, 0],\n",
        "              [0.3, 1.2],\n",
        "              [0.4, -0.4],\n",
        "              [0.7, 0.9],\n",
        "              [0.3, -1.3],\n",
        "              [1.2, -1.4],\n",
        "              [0, -1.2],\n",
        "              [-0.4, 0.9],\n",
        "              [-0.8, 1.1],\n",
        "              [0.6, -0.4]]\n",
        "\n",
        "input_data = torch.tensor(input_data)"
      ],
      "metadata": {
        "id": "kE9GhAcZYmD8"
      },
      "execution_count": 15,
      "outputs": []
    },
    {
      "cell_type": "markdown",
      "source": [
        "Часть 1. Слой Кохонена для выполнения кластеризации множества точек. Проверить\n",
        "качество разбиения."
      ],
      "metadata": {
        "id": "KJD95n65LU9E"
      }
    },
    {
      "cell_type": "code",
      "source": [
        "class KohonenLayer(nn.Module):\n",
        "  def __init__(self, in_features, out_features):\n",
        "    super().__init__()\n",
        "    self.in_features = in_features\n",
        "    self.out_features = out_features\n",
        "    self.lin = nn.Linear(in_features, out_features)\n",
        "\n",
        "  def forward(self, x):\n",
        "      \"\"\"return default Kohonen outputs and cluster labels for each training sample\"\"\"\n",
        "\n",
        "      w_normj = torch.sum(self.lin.weight ** 2, axis=1)\n",
        "      w_normj_matrix = torch.reshape(w_normj, (1, self.out_features)).repeat(input_data.shape[0], 1)\n",
        "      dists = (input_data @ self.lin.weight.T) - 0.5 * w_normj_matrix\n",
        "      outputs = torch.argmax(dists, dim=1)\n",
        "      dists[:, :] = 0\n",
        "      cluster_labels = outputs\n",
        "      for index, output in enumerate(outputs):\n",
        "        dists[index, output] = 1\n",
        "      return dists, cluster_labels"
      ],
      "metadata": {
        "id": "_9uRM-TFQ4TM"
      },
      "execution_count": 11,
      "outputs": []
    },
    {
      "cell_type": "markdown",
      "source": [
        "Функция обучения модели"
      ],
      "metadata": {
        "id": "efCnF-f8Lf2O"
      }
    },
    {
      "cell_type": "code",
      "source": [
        "def train(model, X, criterion, optimizer, epochs=10):\n",
        "  cluster_count = 8\n",
        "  history = []\n",
        "  model.train()\n",
        "  for epoch in range(epochs):\n",
        "    cluster_groups = [torch.tensor for i in range(cluster_count)]\n",
        "    optimizer.zero_grad()\n",
        "    dists, cluster_labels = model(X)\n",
        "    unique_cluster_labels = np.unique([label.item() for label in cluster_labels.clone().detach().cpu().numpy()])\n",
        "    cluster_groups = {}\n",
        "    for cluster in unique_cluster_labels:\n",
        "      cluster_groups[cluster.item()] = []\n",
        "    groupby = [cluster_groups[label.item()].append(x) for x, label in zip(X, cluster_labels)]\n",
        "    result_loss = 0.0\n",
        "    for cluster in unique_cluster_labels:\n",
        "      cluster_size = len(cluster_groups[cluster])\n",
        "      weights = model.lin.weight[cluster, :]\n",
        "      cluster_centers = weights.repeat(cluster_size)\n",
        "      cluster_group = torch.flatten(torch.cat(cluster_groups[cluster]), start_dim=0)\n",
        "      result_loss += criterion(cluster_centers, cluster_group) / 2.\n",
        "    if epoch % 300 == 0:\n",
        "      print(f\"epoch: {epoch} loss: {result_loss.item()}\")\n",
        "    history.append(result_loss.item())\n",
        "    result_loss.backward()\n",
        "    optimizer.step()\n",
        "  return history"
      ],
      "metadata": {
        "id": "zjw803-Yor4U"
      },
      "execution_count": 12,
      "outputs": []
    },
    {
      "cell_type": "markdown",
      "source": [
        "Определение модели, функции потерь и опмимизатора для обучения модели"
      ],
      "metadata": {
        "id": "5tkZBRs2Ljui"
      }
    },
    {
      "cell_type": "code",
      "source": [
        "epochs = 10000\n",
        "\n",
        "model = KohonenLayer(2, 3)\n",
        "criterion = nn.MSELoss()\n",
        "optimizer = torch.optim.Adam(model.parameters())"
      ],
      "metadata": {
        "id": "06t_2UYQQ4fb"
      },
      "execution_count": 13,
      "outputs": []
    },
    {
      "cell_type": "markdown",
      "source": [
        "Обучение модели"
      ],
      "metadata": {
        "id": "9rZY83YoLtrs"
      }
    },
    {
      "cell_type": "code",
      "source": [
        "history = train(model, input_data, criterion, optimizer, epochs=epochs)"
      ],
      "metadata": {
        "colab": {
          "base_uri": "https://localhost:8080/"
        },
        "id": "-yVEOSi-vB_3",
        "outputId": "4c0995d4-6d6d-485b-c38d-6619e32cead1"
      },
      "execution_count": 16,
      "outputs": [
        {
          "output_type": "stream",
          "name": "stdout",
          "text": [
            "epoch: 0 loss: 0.9549019932746887\n",
            "epoch: 300 loss: 0.4840148091316223\n",
            "epoch: 600 loss: 0.29801255464553833\n",
            "epoch: 900 loss: 0.22624564170837402\n",
            "epoch: 1200 loss: 0.20125342905521393\n",
            "epoch: 1500 loss: 0.1938583254814148\n",
            "epoch: 1800 loss: 0.19211120903491974\n",
            "epoch: 2100 loss: 0.1917974054813385\n",
            "epoch: 2400 loss: 0.19175663590431213\n",
            "epoch: 2700 loss: 0.19175298511981964\n",
            "epoch: 3000 loss: 0.19175279140472412\n",
            "epoch: 3300 loss: 0.19175277650356293\n",
            "epoch: 3600 loss: 0.19175279140472412\n",
            "epoch: 3900 loss: 0.19175277650356293\n",
            "epoch: 4200 loss: 0.19175277650356293\n",
            "epoch: 4500 loss: 0.19175277650356293\n",
            "epoch: 4800 loss: 0.19175277650356293\n",
            "epoch: 5100 loss: 0.19175277650356293\n",
            "epoch: 5400 loss: 0.19175277650356293\n",
            "epoch: 5700 loss: 0.19175277650356293\n",
            "epoch: 6000 loss: 0.19175277650356293\n",
            "epoch: 6300 loss: 0.19175277650356293\n",
            "epoch: 6600 loss: 0.19175277650356293\n",
            "epoch: 6900 loss: 0.19175279140472412\n",
            "epoch: 7200 loss: 0.19175280630588531\n",
            "epoch: 7500 loss: 0.19175279140472412\n",
            "epoch: 7800 loss: 0.19175279140472412\n",
            "epoch: 8100 loss: 0.19175277650356293\n",
            "epoch: 8400 loss: 0.19175277650356293\n",
            "epoch: 8700 loss: 0.19175277650356293\n",
            "epoch: 9000 loss: 0.19175277650356293\n",
            "epoch: 9300 loss: 0.19175277650356293\n",
            "epoch: 9600 loss: 0.19175277650356293\n",
            "epoch: 9900 loss: 0.19175277650356293\n"
          ]
        }
      ]
    },
    {
      "cell_type": "markdown",
      "source": [
        "Построение кривой обучения"
      ],
      "metadata": {
        "id": "YCNPH1wGLveS"
      }
    },
    {
      "cell_type": "code",
      "source": [
        "plt.plot(range(epochs), history)"
      ],
      "metadata": {
        "colab": {
          "base_uri": "https://localhost:8080/",
          "height": 447
        },
        "id": "baq-T-OaNv5b",
        "outputId": "acbe827f-85cd-4083-ba16-6be3fcda0245"
      },
      "execution_count": 17,
      "outputs": [
        {
          "output_type": "execute_result",
          "data": {
            "text/plain": [
              "[<matplotlib.lines.Line2D at 0x7960178d0c40>]"
            ]
          },
          "metadata": {},
          "execution_count": 17
        },
        {
          "output_type": "display_data",
          "data": {
            "text/plain": [
              "<Figure size 640x480 with 1 Axes>"
            ],
            "image/png": "[encoded data removed]"
          },
          "metadata": {}
        }
      ]
    },
    {
      "cell_type": "markdown",
      "source": [
        "Оценка результата"
      ],
      "metadata": {
        "id": "RAlfHF0jLyd3"
      }
    },
    {
      "cell_type": "code",
      "source": [
        "x = [point[0] for point in input_data]\n",
        "y = [point[1] for point in input_data]\n",
        "\n",
        "cluster_centers = model.lin.weight.clone().detach().cpu().numpy()\n",
        "x_points = cluster_centers[:, 0]\n",
        "y_points = cluster_centers[:, 1]\n",
        "\n",
        "plt.scatter(x,y)\n",
        "plt.scatter(x_points, y_points)"
      ],
      "metadata": {
        "id": "xTr_sin-vCB9",
        "colab": {
          "base_uri": "https://localhost:8080/",
          "height": 447
        },
        "outputId": "987cbfa7-1256-449c-fab8-fd4dff43a0bf"
      },
      "execution_count": 18,
      "outputs": [
        {
          "output_type": "execute_result",
          "data": {
            "text/plain": [
              "<matplotlib.collections.PathCollection at 0x796017aacdf0>"
            ]
          },
          "metadata": {},
          "execution_count": 18
        },
        {
          "output_type": "display_data",
          "data": {
            "text/plain": [
              "<Figure size 640x480 with 1 Axes>"
            ],
            "image/png": "[encoded data removed]"
          },
          "metadata": {}
        }
      ]
    },
    {
      "cell_type": "markdown",
      "source": [
        "Часть 2. Самоогранизующиеся карты Кохонена"
      ],
      "metadata": {
        "id": "dFzlsXBVgx2N"
      }
    },
    {
      "cell_type": "code",
      "source": [
        "import random"
      ],
      "metadata": {
        "id": "oAXcx6JM91lj"
      },
      "execution_count": 19,
      "outputs": []
    },
    {
      "cell_type": "markdown",
      "source": [
        "Опишем архитектуру самоорганизующейся карты Кохонена"
      ],
      "metadata": {
        "id": "37jSaITAL1np"
      }
    },
    {
      "cell_type": "code",
      "source": [
        "class SOM:\n",
        "  def __init__(self, in_features, w, h):\n",
        "    self.in_features = in_features\n",
        "    self.w = w\n",
        "    self.h = h\n",
        "    self.a_t = lambda t: 0.9 * (1 - t / 1000)\n",
        "    self.sigma_t = lambda t: self.a_t(t)\n",
        "    self.weights = np.random.randn(w * h, in_features)\n",
        "    self.h_t = lambda t, i, c: self.a_t(t) * np.exp(-np.sum((i % self.w - c % self.w) ** 2 + (i // self.w - c // self.w) ** 2) / 2 * (self.sigma_t(t)))\n",
        "\n",
        "  def get_BMU(self, sample):\n",
        "    n = sample.shape[0]\n",
        "    size = self.weights.shape[0]\n",
        "    dists = np.sum((np.repeat(np.reshape(sample, (1, n)), size, axis=0) - self.weights) ** 2, axis=1)\n",
        "    bmu_index = np.argmin(dists)\n",
        "    return bmu_index\n",
        "\n",
        "  def map_error(self, X_train):\n",
        "    error = 0.0\n",
        "    for sample in X_train:\n",
        "      bmu_index = self.get_BMU(sample)\n",
        "      error += sum((sample - self.weights[bmu_index]) ** 2)\n",
        "    error = error / X_train.shape[0]\n",
        "    return error\n",
        "\n",
        "  def fit(self, X_train, iterations=500):\n",
        "    for t in range(iterations):\n",
        "      random_sample_index = np.random.randint(low=0, high=X_train.shape[0])\n",
        "      bmu_index = self.get_BMU(X_train[random_sample_index])\n",
        "      h_values = [self.h_t(t, i, bmu_index) for i in range(self.h * self.w)]\n",
        "      h_values = np.repeat(np.reshape(h_values, (self.w * self.h, 1)), 2, axis=1)\n",
        "      random_sample = np.repeat(np.reshape(X_train[random_sample_index], (1, 2)), self.h * self.w, axis=0)\n",
        "      self.weights += h_values * (random_sample - self.weights)\n",
        "      if t % 100 == 0:\n",
        "        print(f\"iteration #{t} map error: {self.map_error(X_train)}\")"
      ],
      "metadata": {
        "id": "BHxHRI9IvCEf"
      },
      "execution_count": 20,
      "outputs": []
    },
    {
      "cell_type": "markdown",
      "source": [
        "Обучим карту Кахонена"
      ],
      "metadata": {
        "id": "b_8ACMbVMAsb"
      }
    },
    {
      "cell_type": "code",
      "source": [
        "input_data = np.array([[1.2, 1.1],\n",
        "              [0.8, 1.2],\n",
        "              [-1, 0],\n",
        "              [0.3, 1.2],\n",
        "              [0.4, -0.4],\n",
        "              [0.7, 0.9],\n",
        "              [0.3, -1.3],\n",
        "              [1.2, -1.4],\n",
        "              [0, -1.2],\n",
        "              [-0.4, 0.9],\n",
        "              [-0.8, 1.1],\n",
        "              [0.6, -0.4]])"
      ],
      "metadata": {
        "id": "MR8UjpefN6mE"
      },
      "execution_count": 23,
      "outputs": []
    },
    {
      "cell_type": "code",
      "source": [
        "model = SOM(2, 20, 20)\n",
        "model.fit(input_data)"
      ],
      "metadata": {
        "colab": {
          "base_uri": "https://localhost:8080/"
        },
        "id": "Xr-5U9NHAXxe",
        "outputId": "90ea90b3-1984-4d6f-806a-f3b5cae74b1b"
      },
      "execution_count": 24,
      "outputs": [
        {
          "output_type": "stream",
          "name": "stdout",
          "text": [
            "iteration #0 map error: 0.010151331977519084\n",
            "iteration #100 map error: 5.51331490217408e-06\n",
            "iteration #200 map error: 8.278500442643143e-07\n",
            "iteration #300 map error: 1.0535489071576062e-06\n",
            "iteration #400 map error: 5.638585257898545e-08\n"
          ]
        }
      ]
    },
    {
      "cell_type": "markdown",
      "source": [
        "Оценим результат построения карты Кохонена"
      ],
      "metadata": {
        "id": "-UWN1kgJMD4J"
      }
    },
    {
      "cell_type": "code",
      "source": [
        "weights = model.weights\n",
        "\n",
        "weights_min = np.min(weights, axis=0)\n",
        "weights_max = np.max(weights, axis=0)\n",
        "\n",
        "weights_scaled = ((weights - weights_min) / (weights_max - weights_min)).reshape((model.h, model.w, model.in_features))"
      ],
      "metadata": {
        "id": "UOx3Bc-RVHKR"
      },
      "execution_count": 25,
      "outputs": []
    },
    {
      "cell_type": "code",
      "source": [
        "plt.figure(figsize=(15, 8))\n",
        "\n",
        "plt.imshow(np.insert(weights_scaled, 2, 0.5, axis = 2))\n",
        "\n",
        "plt.show()"
      ],
      "metadata": {
        "colab": {
          "base_uri": "https://localhost:8080/",
          "height": 676
        },
        "id": "uziDxCnXoKdj",
        "outputId": "5868ff39-23a6-4f05-cf76-80eac74e6f0f"
      },
      "execution_count": 26,
      "outputs": [
        {
          "output_type": "display_data",
          "data": {
            "text/plain": [
              "<Figure size 1500x800 with 1 Axes>"
            ],
            "image/png": "[encoded data removed]"
          },
          "metadata": {}
        }
      ]
    },
    {
      "cell_type": "markdown",
      "source": [
        "Часть 3. Сеть векторного квантования, обучаемая с учителем"
      ],
      "metadata": {
        "id": "LmaPWTQzCFnR"
      }
    },
    {
      "cell_type": "code",
      "source": [
        "def generate_points(count, a, b):\n",
        "  X = [random.uniform(-a, a) for i in range(count)]\n",
        "  points = [(x, (b / a) * (random.randint(0,1)*2-1) * np.sqrt(a ** 2 - x ** 2)) for x in X]\n",
        "  return points"
      ],
      "metadata": {
        "id": "aJ2sddGYvCHG"
      },
      "execution_count": 27,
      "outputs": []
    },
    {
      "cell_type": "code",
      "source": [
        "points1 = generate_points(200, 0.5, 0.5)\n",
        "points2 = generate_points(200, 0.8, 0.8)\n",
        "points3 = generate_points(200, 1, 1)\n",
        "x1 = [p[0] for p in points1]\n",
        "y1 = [p[1] for p in points1]\n",
        "x2 = [p[0] for p in points2]\n",
        "y2 = [p[1] for p in points2]\n",
        "x3 = [p[0] for p in points3]\n",
        "y3 = [p[1] for p in points3]\n",
        "\n",
        "plt.scatter(x1, y1, c=\"red\")\n",
        "plt.scatter(x2, y2, c=\"green\")\n",
        "plt.scatter(x3, y3, c=\"blue\")\n",
        "plt.grid(True)"
      ],
      "metadata": {
        "colab": {
          "base_uri": "https://localhost:8080/",
          "height": 430
        },
        "id": "5YaVldiaCYqs",
        "outputId": "3ad8e1af-a448-46b6-f469-d1ff552c6d60"
      },
      "execution_count": 28,
      "outputs": [
        {
          "output_type": "display_data",
          "data": {
            "text/plain": [
              "<Figure size 640x480 with 1 Axes>"
            ],
            "image/png": "[encoded data removed]"
          },
          "metadata": {}
        }
      ]
    },
    {
      "cell_type": "code",
      "source": [
        "def acc(y_real, y_pred):\n",
        "  y_real = np.argmax(y_real, axis=1)\n",
        "  return (np.array(y_real == y_pred)).sum() / y_real.shape[0]"
      ],
      "metadata": {
        "id": "66-fVieiG8dt"
      },
      "execution_count": 29,
      "outputs": []
    },
    {
      "cell_type": "code",
      "source": [
        "def create_data(size1, size2, size3, tensors=False):\n",
        "  points1 = generate_points(size1, 0.5, 0.5)\n",
        "  points2 = generate_points(size2, 0.8, 0.8)\n",
        "  points3 = generate_points(size3, 1, 1)\n",
        "  size = size1 + size2 + size3\n",
        "  labels = np.reshape(np.array([1, 0, 0] * size1 + [0, 1, 0] * size2 + [0, 0, 1] * size3), (size, 3))\n",
        "  data = np.array(points1 + points2 + points3)\n",
        "  if tensors:\n",
        "    return torch.tensor(data, dtype=torch.float), torch.tensor(labels, dtype=torch.float)\n",
        "  else:\n",
        "    return data, labels"
      ],
      "metadata": {
        "id": "sojE10ikCYyw"
      },
      "execution_count": 41,
      "outputs": []
    },
    {
      "cell_type": "code",
      "source": [
        "X, y = create_data(50, 50, 50)\n",
        "X_train, X_test, y_train, y_test = train_test_split(X, y, train_size=0.8, random_state=42)"
      ],
      "metadata": {
        "id": "QpDQKnl_CfPJ"
      },
      "execution_count": 46,
      "outputs": []
    },
    {
      "cell_type": "markdown",
      "source": [
        "Опишем архитектуру сети векторного квантования, обучаемую с учителем"
      ],
      "metadata": {
        "id": "G4rT2q8EMNUK"
      }
    },
    {
      "cell_type": "code",
      "source": [
        "class LVQNetwork:\n",
        "  def __init__(self, in_features, k=3, c=3): # k define count of coding vectors for each class, c-count of classes\n",
        "    self.c = c\n",
        "    self.k = k\n",
        "    self.in_features = in_features\n",
        "    self.a_t = lambda t: 0.1 * (1 - t / 1000)\n",
        "    self.weights = np.random.randn(c * k, in_features)\n",
        "\n",
        "  def find_winner(self, sample):\n",
        "    sample = np.repeat(np.reshape(sample, (1, 2)), self.c * self.k, axis=0)\n",
        "    dists = np.sqrt(np.sum((sample - self.weights) ** 2, axis=1))\n",
        "    winner_index = np.argmin(dists)\n",
        "    return winner_index % self.c\n",
        "\n",
        "  def init_weights(self, X_train, y_train):\n",
        "    y_train = np.argmax(y_train, axis=1)\n",
        "    unique_y = np.unique(y_train)\n",
        "    samples_groups = [[] for y in unique_y]\n",
        "    group = [samples_groups[y].append(sample) if len(samples_groups[y]) < self.k else None for sample, y in zip(X_train, y_train)]\n",
        "    for y in range(len(unique_y)):\n",
        "      for k in range(self.k):\n",
        "        self.weights[y * self.c + k, :] = samples_groups[y][k]\n",
        "\n",
        "  def fit(self, X_train, y_train, iterations=3):\n",
        "    self.init_weights(X_train, y_train)\n",
        "    for t in range(iterations):\n",
        "      for index, train_sample in enumerate(X_train[:90]):\n",
        "        winner_index = self.find_winner(train_sample)\n",
        "        if winner_index == np.argmax(y_train[index]): # correct classification, change weights in sample direction\n",
        "          self.weights[winner_index, :] += self.a_t(t) * (train_sample - self.weights[winner_index, :])\n",
        "        else: # not correct classification, so change weights in opposite sample direction\n",
        "          self.weights[winner_index, :] -= self.a_t(t) * (train_sample - self.weights[winner_index, :])\n",
        "\n",
        "\n",
        "  def predict(self, X_test):\n",
        "    predictions = np.zeros(X_test.shape[0])\n",
        "    for index, sample in enumerate(X_test):\n",
        "      predicted_class = self.find_winner(sample)\n",
        "      predictions[index] = predicted_class\n",
        "\n",
        "    return predictions"
      ],
      "metadata": {
        "id": "7ECT4r9ICfVL"
      },
      "execution_count": 43,
      "outputs": []
    },
    {
      "cell_type": "markdown",
      "source": [
        "Обучим модель и оценим результат на тестовом множестве"
      ],
      "metadata": {
        "id": "kILPCDleMpHk"
      }
    },
    {
      "cell_type": "code",
      "source": [
        "model = LVQNetwork(2)\n",
        "model.fit(X_train, y_train)\n",
        "predictions = model.predict(X_test)\n",
        "\n",
        "print(\"test acc: \", acc(y_test, predictions))"
      ],
      "metadata": {
        "colab": {
          "base_uri": "https://localhost:8080/"
        },
        "id": "VnRXK7eXCfXd",
        "outputId": "0e2c9f34-1e3c-4837-cbee-e314a2325481"
      },
      "execution_count": 47,
      "outputs": [
        {
          "output_type": "stream",
          "name": "stdout",
          "text": [
            "test acc:  0.4\n"
          ]
        }
      ]
    },
    {
      "cell_type": "markdown",
      "source": [
        "Вывод:\n",
        "\n",
        "Сети Кохонена являются достаточно интересным инструментом для решения задач классификации и кластеризации. Карты Кохонена позволяют эффективно кластеризовать точки, создавая целые области на карте с похожими весами. Модели векторного квантования с учителем сложны в настройке, ведь всего за несколько итераций можно сильно изменить опорные векторы так, что они уже не смогут классифицировать объекты. Поэтому нужно думать над тем, что выбрать в качестве опорных векторов, сколько их выбрать, каким взять шаг для обучения. Так, простая сеть обучилась плохо."
      ],
      "metadata": {
        "id": "USQCu_zvMv9L"
      }
    }
  ]
}